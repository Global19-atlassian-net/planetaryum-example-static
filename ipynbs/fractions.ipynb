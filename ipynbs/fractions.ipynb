{
 "cells": [
  {
   "cell_type": "markdown",
   "metadata": {},
   "source": [
    "# Fractions"
   ]
  },
  {
   "cell_type": "markdown",
   "metadata": {},
   "source": [
    "## Author: Raniere Silva"
   ]
  },
  {
   "cell_type": "markdown",
   "metadata": {},
   "source": [
    "Move the sliders and see when the fraction can be reduced."
   ]
  },
  {
   "cell_type": "code",
   "execution_count": 2,
   "metadata": {
    "collapsed": false
   },
   "outputs": [
    {
     "data": {
      "text/latex": [
       "$$\\frac{78}{10} = \\frac{39}{5}$$"
      ],
      "text/plain": [
       "<IPython.core.display.Math object>"
      ]
     },
     "metadata": {},
     "output_type": "display_data"
    }
   ],
   "source": [
    "import sympy\n",
    "from ipywidgets import interact, widgets\n",
    "from IPython.display import display, Math, Latex\n",
    "\n",
    "sympy.init_printing()\n",
    "\n",
    "numerator = widgets.IntSlider(\n",
    "    value=78,\n",
    "    min=0,\n",
    "    max=100,\n",
    "    step=1,\n",
    "    description='Numerator:',\n",
    "    disabled=False,\n",
    "    continuous_update=True,\n",
    "    orientation='horizontal',\n",
    "    readout=True,\n",
    "    readout_format='i',\n",
    "    slider_color='white'\n",
    ")\n",
    "\n",
    "denominator = widgets.IntSlider(\n",
    "    value=10,\n",
    "    min=0,\n",
    "    max=100,\n",
    "    step=1,\n",
    "    description='Numerator:',\n",
    "    disabled=False,\n",
    "    continuous_update=True,\n",
    "    orientation='horizontal',\n",
    "    readout=True,\n",
    "    readout_format='i',\n",
    "    slider_color='white'\n",
    ")\n",
    "\n",
    "def fractions(numerator, denominator):\n",
    "    display(\n",
    "        Math('\\\\frac{{{}}}{{{}}} = {}'.format(\n",
    "                numerator,\n",
    "                denominator,\n",
    "                sympy.latex(sympy.Rational(sympy.simplify(numerator) / sympy.simplify(denominator)))\n",
    "                )\n",
    "             )\n",
    "        )\n",
    "\n",
    "interact(fractions, numerator=numerator, denominator=denominator);"
   ]
  },
  {
   "cell_type": "markdown",
   "metadata": {},
   "source": [
    "### References\n",
    "\n",
    "* [Fraction (mathematics), Equivalent fractions. Wikipedia](https://en.wikipedia.org/wiki/Fraction_%28mathematics%29#Equivalent_fractions)"
   ]
  },
  {
   "cell_type": "markdown",
   "metadata": {},
   "source": [
    "### Keywords\n",
    "\n",
    "- Fraction"
   ]
  },
  {
   "cell_type": "markdown",
   "metadata": {},
   "source": [
    "### Requirements\n",
    "- sympy"
   ]
  },
  {
   "cell_type": "markdown",
   "metadata": {},
   "source": [
    "### License\n",
    "This notebook is distributed under a [Creative Commons license (CC-BY 4.0)](https://creativecommons.org/licenses/by/4.0/)"
   ]
  }
 ],
 "metadata": {
  "anaconda-cloud": {},
  "kernelspec": {
   "display_name": "Python 3",
   "language": "python",
   "name": "python3"
  },
  "language_info": {
   "codemirror_mode": {
    "name": "ipython",
    "version": 3
   },
   "file_extension": ".py",
   "mimetype": "text/x-python",
   "name": "python",
   "nbconvert_exporter": "python",
   "pygments_lexer": "ipython3",
   "version": "3.6.0"
  }
 },
 "nbformat": 4,
 "nbformat_minor": 1
}
