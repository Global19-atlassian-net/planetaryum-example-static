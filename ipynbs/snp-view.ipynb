{
 "cells": [
  {
   "cell_type": "markdown",
   "metadata": {},
   "source": [
    "# Multi-sequence viewer"
   ]
  },
  {
   "cell_type": "markdown",
   "metadata": {},
   "source": [
    "## Author: Pedro A. García-Sánchez"
   ]
  },
  {
   "cell_type": "markdown",
   "metadata": {},
   "source": [
    "This code allows to display several DNA sequences and the discordances between them. It is a simplifiation of [snipviz](https://github.com/yeastrc/snipviz) in python. It is not intended to replace it."
   ]
  },
  {
   "cell_type": "code",
   "execution_count": 1,
   "metadata": {},
   "outputs": [
    {
     "data": {
      "application/vnd.jupyter.widget-view+json": {
       "model_id": "f2bea14c7796438fb6f5e514f22b4898"
      }
     },
     "metadata": {},
     "output_type": "display_data"
    }
   ],
   "source": [
    "from ipywidgets import interact,interactive, IntSlider, fixed\n",
    "import matplotlib\n",
    "import numpy as np\n",
    "import matplotlib.pyplot as plt\n",
    "from IPython.display import display, HTML\n",
    "\n",
    "%matplotlib inline \n",
    "\n",
    "data=['attagtgattagtgatt-taacatcatttttt-aatttaggcataaaacgccctcaattcaagggtttttgagcgagctttttgctcaaagaatccaagatagcgtttaaaaatttaggggtgttaggctcagcgtagagtttgccaagctctatgcattcattgatgatgatagggttttgtgtgggcgtgaagccaatttcatacgctcctaagcgtaaaatcgccttttccatgctccctaatcgcttgaaatcccagtctttcaaatgcggttcaatgagggcgtcaatttcatt',\n",
    " 'attagtgattagtgattatagcatcattttttaaatttaggtataaaacaccctcaattcaagggtttttgagtgagctttttgctcaaagaatccaagatagcgtttaaaaatttaggggtgttaggctcagcgtagagtttgccaagctctatgcattcattgatgatgatagggttttgcgtgggcgtgaagccaatttcatacgctcctaagcgtaaaatcgccttttccatgctccctaatcgcttgaaatcccagtcttttaaatgcggctcgatgagggcgtcaatttcatt']\n",
    "\n",
    "def show_slider(data,w=42):\n",
    "    \"\"\"\n",
    "    Shows information with a slider.\n",
    "    Args:\n",
    "        data: a list of strings\n",
    "    Output:\n",
    "        a slider\n",
    "    \"\"\"\n",
    "\n",
    "    def show(d,l):\n",
    "        colors={'A':'green','C':'blue','T':'red','G':'black','-':'black'}\n",
    "        n=len(data)\n",
    "        m=len(data[0])\n",
    "        rn = list(range(50,100))\n",
    "        # Make the table\n",
    "        head = \"<p/>\\n <table>\\n\"\n",
    "        result = head\n",
    "        dsc=[i for i in range(m) if len(set([data[k][i] for k in range(n)]))>1]\n",
    "        for i in range(n):\n",
    "            result =result+(\"<tr>\")\n",
    "            for j in range(d,d+l):\n",
    "                du = data[i][j].upper()\n",
    "                c = 'black'\n",
    "                cb = 'white'\n",
    "                if j in dsc:\n",
    "                    cb = 'lightblue'\n",
    "                if du in \"GATC\":\n",
    "                    c = colors[du]\n",
    "                result = result + \"<td bgcolor=\"+cb+\"> <p style='color:\"+c+\"'> \"+du+\"</p> </td>\"\n",
    "            result = result+(\"<tr>\\n\")\n",
    "        result += \"\\n </table>\"\n",
    "\n",
    "        fig, (ax) = plt.subplots(1, 1, figsize=(20, 2), sharex=True)\n",
    "\n",
    "        n = len(data)\n",
    "        m = len(data[0])\n",
    "        yy = [len(set([data[k][i] for k in range(n)]))-1\n",
    "              for i in range(m)]\n",
    "        xx = np.arange(m)\n",
    "        ax.fill_between(xx, yy)\n",
    "        ax.fill_between([d,d+l],[1,1],alpha=.5)\n",
    "        ax.set_frame_on(False)\n",
    "        ax.set_ylabel(\"Discordances\")\n",
    "        plt.show()\n",
    "\n",
    "\n",
    "        display(HTML(result))\n",
    "        print(\"Showing positions from \",d,\" to \",d+l-1)\n",
    "\n",
    "    interact(show,d=IntSlider(min=1,max=len(data[0])-w,step=1,value=0),l=fixed(w));\n",
    "\n",
    "\n",
    "\n",
    "show_slider(data,45)\n"
   ]
  },
  {
   "cell_type": "markdown",
   "metadata": {},
   "source": [
    "### References\n",
    "* [snipviz](https://github.com/yeastrc/snipviz)\n",
    "* [dna_features_viewer](https://github.com/Edinburgh-Genome-Foundry/DnaFeaturesViewer)"
   ]
  },
  {
   "cell_type": "markdown",
   "metadata": {},
   "source": [
    "### Keywords\n",
    "LCB, DNA viewer"
   ]
  },
  {
   "cell_type": "markdown",
   "metadata": {
    "collapsed": true
   },
   "source": [
    "### Requirements\n",
    "matplotlib,numpy,ipywidgets"
   ]
  },
  {
   "cell_type": "markdown",
   "metadata": {},
   "source": [
    "### License\n",
    "This notebook is distributed under a [Creative Commons license (CC-BY 4.0)](https://creativecommons.org/licenses/by/4.0/)"
   ]
  }
 ],
 "metadata": {
  "anaconda-cloud": {},
  "kernelspec": {
   "display_name": "Python 3",
   "language": "python",
   "name": "python3"
  },
  "language_info": {
   "codemirror_mode": {
    "name": "ipython",
    "version": 3
   },
   "file_extension": ".py",
   "mimetype": "text/x-python",
   "name": "python",
   "nbconvert_exporter": "python",
   "pygments_lexer": "ipython3",
   "version": "3.5.3"
  }
 },
 "nbformat": 4,
 "nbformat_minor": 1
}
