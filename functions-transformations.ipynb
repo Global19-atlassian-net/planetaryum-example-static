{
 "cells": [
  {
   "cell_type": "markdown",
   "metadata": {},
   "source": [
    "# Functions Transformations"
   ]
  },
  {
   "cell_type": "markdown",
   "metadata": {},
   "source": [
    "## Author: Raniere Silva"
   ]
  },
  {
   "cell_type": "markdown",
   "metadata": {},
   "source": [
    "Move the sliders and see how the function change. You can select other functions."
   ]
  },
  {
   "cell_type": "code",
   "execution_count": 7,
   "metadata": {
    "collapsed": false
   },
   "outputs": [
    {
     "data": {
      "image/png": "[encoded data removed]",
      "text/plain": [
       "<matplotlib.figure.Figure at 0x7f70d21393c8>"
      ]
     },
     "metadata": {},
     "output_type": "display_data"
    }
   ],
   "source": [
    "%matplotlib inline\n",
    "import matplotlib.pyplot as plt\n",
    "import numpy as np\n",
    "from ipywidgets import interact, widgets\n",
    "\n",
    "AXIS_LIMIT = 20\n",
    "\n",
    "vertical_stretch = widgets.FloatSlider(\n",
    "    value=0,\n",
    "    min=-5,\n",
    "    max=5,\n",
    "    step=0.1,\n",
    "\n",
    "\n",
    "    description='Vertical stretch:',\n",
    "    disabled=False,\n",
    "    continuous_update=True,\n",
    "    orientation='horizontal',\n",
    "    readout=True,\n",
    "    readout_format='i',\n",
    "    slider_color='white'\n",
    ")\n",
    "\n",
    "vertical_shift = widgets.IntSlider(\n",
    "    value=1,\n",
    "    min=-50,\n",
    "    max=50,\n",
    "    step=1,\n",
    "    description='Vertical shift:',\n",
    "    disabled=False,\n",
    "    continuous_update=True,\n",
    "    orientation='horizontal',\n",
    "    readout=True,\n",
    "    readout_format='i',\n",
    "    slider_color='white'\n",
    ")\n",
    "\n",
    "horizontal_shift = widgets.IntSlider(\n",
    "    value=0,\n",
    "    min=-50,\n",
    "    max=50,\n",
    "    step=1,\n",
    "    description='Horizontal shift:',\n",
    "    disabled=False,\n",
    "    continuous_update=True,\n",
    "    orientation='horizontal',\n",
    "    readout=True,\n",
    "    readout_format='i',\n",
    "    slider_color='white'\n",
    ")\n",
    "\n",
    "function = widgets.ToggleButtons(\n",
    "    options=['Linear', 'Absolute value', 'Quadratic', \"Cubic\"],\n",
    "    description='Function:',\n",
    "    disabled=False,\n",
    "    button_style='', # 'success', 'info', 'warning', 'danger' or ''\n",
    "    tooltip='Description',\n",
    "    icon='check'\n",
    ")\n",
    "\n",
    "@np.vectorize\n",
    "def linear(x, c):\n",
    "    return x - c\n",
    "\n",
    "@np.vectorize\n",
    "def absolute_value(x, c):\n",
    "    return abs(x)\n",
    "\n",
    "@np.vectorize\n",
    "def quadratic(x, c):\n",
    "    return (x - c) ** 2\n",
    "\n",
    "@np.vectorize\n",
    "def cubic(x, c):\n",
    "    return (x - c) ** 3\n",
    "\n",
    "def functions_transformations(a, b, c, function):\n",
    "    if function == \"Linear\":\n",
    "        function_to_apply = linear\n",
    "    elif function == \"Absolute value\":\n",
    "        function_to_apply = absolute_value\n",
    "    elif function == \"Quadratic\":\n",
    "        function_to_apply = quadratic\n",
    "    elif function == \"Cubic\":\n",
    "        function_to_apply = cubic\n",
    "    \n",
    "    t = np.linspace(-AXIS_LIMIT, AXIS_LIMIT, 1000)\n",
    "    \n",
    "    b_v = b * np.ones(1000) + a * function_to_apply(t, c * np.ones(1000))\n",
    "    \n",
    "    plt.plot(t, b_v)\n",
    "\n",
    "    # These two lines make the aspect ratio square\n",
    "    fig = plt.gcf()\n",
    "    fig.set_size_inches(6, 6, forward='True')\n",
    "    \n",
    "    axes = plt.gca()\n",
    "    axes.set_xlim([-AXIS_LIMIT, AXIS_LIMIT])\n",
    "    axes.set_ylim([-AXIS_LIMIT,AXIS_LIMIT])\n",
    "    axes.set_xticks(np.arange(-AXIS_LIMIT, AXIS_LIMIT, 10))\n",
    "    axes.set_yticks(np.arange(-AXIS_LIMIT, AXIS_LIMIT, 10))\n",
    "    \n",
    "    plt.grid()\n",
    "\n",
    "interact(functions_transformations,\n",
    "         a=vertical_stretch,\n",
    "         b=vertical_shift,\n",
    "         c=horizontal_shift,\n",
    "         function=function);"
   ]
  },
  {
   "cell_type": "markdown",
   "metadata": {},
   "source": [
    "### References\n",
    "\n",
    "* [Linear function. Wikipedia.](https://en.wikipedia.org/wiki/Linear_function)\n",
    "* [Absolute value. Wikipedia.](https://en.wikipedia.org/wiki/Absolute_value)\n",
    "* [Quadratic function. Wikipedia.](https://en.wikipedia.org/wiki/Quadratic_function)\n",
    "* [Cubic function. Wikipedia.](https://en.wikipedia.org/wiki/Cubic_function)"
   ]
  },
  {
   "cell_type": "markdown",
   "metadata": {},
   "source": [
    "### Keywords\n",
    "\n",
    "- Functions\n",
    "- Linear function\n",
    "- Absolute function\n",
    "- Quadratic function\n",
    "- Cubic function"
   ]
  },
  {
   "cell_type": "markdown",
   "metadata": {},
   "source": [
    "### Requirements\n",
    "- numpy"
   ]
  },
  {
   "cell_type": "markdown",
   "metadata": {},
   "source": [
    "### License\n",
    "This notebook is distributed under a [Creative Commons license (CC-BY 4.0)](https://creativecommons.org/licenses/by/4.0/)"
   ]
  }
 ],
 "metadata": {
  "anaconda-cloud": {},
  "kernelspec": {
   "display_name": "Python 3",
   "language": "python",
   "name": "python3"
  },
  "language_info": {
   "codemirror_mode": {
    "name": "ipython",
    "version": 3
   },
   "file_extension": ".py",
   "mimetype": "text/x-python",
   "name": "python",
   "nbconvert_exporter": "python",
   "pygments_lexer": "ipython3",
   "version": "3.6.0"
  },
  "widgets": {
   "state": {
    "d0acf91ab35843fdbcc9a0da082c221a": {
     "views": [
      {
       "cell_index": 3
      }
     ]
    }
   },
   "version": "1.2.0"
  }
 },
 "nbformat": 4,
 "nbformat_minor": 1
}
